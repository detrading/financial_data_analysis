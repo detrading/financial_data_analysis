{
 "cells": [
  {
   "cell_type": "markdown",
   "metadata": {},
   "source": [
    "# Master File\n",
    "\n",
    "**Calculating Correlation for Coca-Cola company**\n",
    "\n",
    "In this file, you will find all the functions from the Google Trends Data & Stock Analysis files as well as our calculations to obtain the correlation coefficient. We intentionally left out any extensive descriptions of the functions from this notebook to keep it uncluttered. If you would like to see our theory behind these functions, more in-depth explanations, and test cases, please visit our other two notebooks.\n",
    "\n",
    "At the bottom of the file, we will be using these functions to calcuate the correlation between our stock returns and trends data for n-lags."
   ]
  },
  {
   "cell_type": "markdown",
   "metadata": {},
   "source": [
    "### Import all necessary packages:"
   ]
  },
  {
   "cell_type": "code",
   "execution_count": 4,
   "metadata": {
    "collapsed": false
   },
   "outputs": [],
   "source": [
    "try: #for making web requests\n",
    "    from urllib.request import urlopen, Request\n",
    "    from urllib.error import HTTPError\n",
    "except ImportError:\n",
    "    from urllib2 import urlopen, Request, HTTPError\n",
    "    \n",
    "import pandas as pd\n",
    "import numpy as np\n",
    "import lxml\n",
    "import requests\n",
    "import requests_cache\n",
    "import pytrends\n",
    "from pytrends.request import TrendReq\n",
    "from bs4 import BeautifulSoup\n",
    "from collections import Counter\n",
    "\n",
    "# for plotting & manipulating datetimes\n",
    "from matplotlib.dates import date2num       \n",
    "from matplotlib.dates import DateFormatter\n",
    "from matplotlib import mlab as mlab\n",
    "from matplotlib import pyplot as plt\n",
    "import datetime as DT\n",
    "plt.style.use('ggplot')\n",
    "\n",
    "requests_cache.install_cache(\"cache\")\n",
    "#%matplotlib inline # only for python 3\n",
    "\n",
    "# required info\n",
    "google_username = \"skhaniyur@gmail.com\"\n",
    "google_password = \"Shadowcat2312!\"\n",
    "\n",
    "# Login to Google. Only need to run this once, the rest of requests will use the same session.\n",
    "pytrend = TrendReq(google_username, google_password, custom_useragent=None)"
   ]
  },
  {
   "cell_type": "markdown",
   "metadata": {},
   "source": [
    "### Import all necessary functions:"
   ]
  },
  {
   "cell_type": "markdown",
   "metadata": {},
   "source": [
    "From Goolge Trends Data file:"
   ]
  },
  {
   "cell_type": "code",
   "execution_count": 5,
   "metadata": {
    "collapsed": true
   },
   "outputs": [],
   "source": [
    "# function to quickly change the search term list into a list of lists\n",
    "def listit(t):\n",
    "    term_listed = []\n",
    "    term_listed.append(t)\n",
    "    return term_listed"
   ]
  },
  {
   "cell_type": "code",
   "execution_count": 6,
   "metadata": {
    "collapsed": true
   },
   "outputs": [],
   "source": [
    "# function to get each company's data frame separately - includes past 3 years and categories\n",
    "def get_term_df2(term, cat_num):\n",
    "    pytrend.build_payload(kw_list = term, cat = cat_num, geo = 'US', timeframe = '2014-01-05 2017-03-11')\n",
    "    new_df = pytrend.interest_over_time()\n",
    "    return new_df"
   ]
  },
  {
   "cell_type": "code",
   "execution_count": 43,
   "metadata": {
    "collapsed": true
   },
   "outputs": [],
   "source": [
    "# function to obtain correlation coefficient for n-lags\n",
    "def calc_corr(n_lag):\n",
    "    if n_lag == 0:\n",
    "        return result.corr(l)\n",
    "    else:\n",
    "        r = result.iloc[n_lag:]\n",
    "        t = l.iloc[:-n_lag]\n",
    "        if len(r) == len(t):\n",
    "            return r.corr(t)\n",
    "        else:\n",
    "            print \"Not same length\""
   ]
  },
  {
   "cell_type": "markdown",
   "metadata": {},
   "source": [
    "From Stock Analysis file:"
   ]
  },
  {
   "cell_type": "code",
   "execution_count": 8,
   "metadata": {
    "collapsed": true
   },
   "outputs": [],
   "source": [
    "# function to get historical stock data from Yahoo Finance\n",
    "def getYahooFinanceStockData(stock = '^GSPC', fromMonth = '01', fromDay = '01', fromYear = '1960'):\n",
    "    #build the url and read the full contents as a string (going back in time upto start of specified year)\n",
    "    url = 'http://ichart.finance.yahoo.com/table.csv?s=' + stock + '&a=' + fromMonth + '&b=' + fromDay + '&c=' + fromYear\n",
    "    fulltext = urlopen(url).read().decode('utf-8')\n",
    "  \n",
    "    #split the fulltext into individual lines based on the newline character\n",
    "    fulltextlines = fulltext.splitlines()\n",
    "\n",
    "    #split the lines into headers and an array of data, based by comma characters\n",
    "    header = fulltextlines[0].split(',')    #for now, fine to just discard the header...\n",
    "    data = np.array([line.split(',') for line in fulltextlines[1:]])\n",
    "  \n",
    "    #note, if you wanted to return reported closing values instead of adjusted closing values, use column data[4] instead of data[6].\n",
    "    adjustedClosingPrices = data[:,6].astype(np.float)  #convert it to an array of floats instead of strings.\n",
    "    closing_dates = data[:,0]\n",
    "  \n",
    "    return closing_dates, adjustedClosingPrices"
   ]
  },
  {
   "cell_type": "code",
   "execution_count": 9,
   "metadata": {
    "collapsed": true
   },
   "outputs": [],
   "source": [
    "# calcualtes the lognormal return from a specified stock over n days\n",
    "def calcLogNormalStockReturns(stockPrices = np.empty(0), n_days=1):   \n",
    "    n_day_lognormal_returns = np.empty(len(stockPrices) - n_days)\n",
    "    # n-day training return; use \"-n\" to omit oldest n days that won't have a pair with which to compare\n",
    "    for i in range(len(stockPrices) - n_days):      \n",
    "        n_day_lognormal_returns[i] = np.log(float(stockPrices[i]) / float(stockPrices[i+n_days]))\n",
    "  \n",
    "    return n_day_lognormal_returns"
   ]
  },
  {
   "cell_type": "code",
   "execution_count": 10,
   "metadata": {
    "collapsed": true
   },
   "outputs": [],
   "source": [
    "# calcualtes the percent return from a specified stock over n days\n",
    "def calcPercentStockReturns(stockPrices = np.empty(0), n_days=1):\n",
    "    n_day_percent_returns = np.empty(len(stockPrices) - n_days)\n",
    "    \n",
    "    # n-day training return; use \"-n\" to omit oldest n days that won't have a pair with which to compare\n",
    "    for i in range(len(stockPrices) - n_days):\n",
    "        n_day_percent_returns[i] = (float(stockPrices[i]) - float(stockPrices[i+n_days])) / float(stockPrices[i+n_days]) *100\n",
    "  \n",
    "    return n_day_percent_returns"
   ]
  },
  {
   "cell_type": "code",
   "execution_count": 11,
   "metadata": {
    "collapsed": true
   },
   "outputs": [],
   "source": [
    "# helper function to get sundays\n",
    "def precedingSunday(d):\n",
    "    #Note, for datetime.weekday: sunday=6, monday=0, tuesday=1, wedesday=2, thursday=3, friday=4, saturday=5.\n",
    "    if d.weekday() == 6: \n",
    "        return d\n",
    "    else: \n",
    "        return d - DT.timedelta(days = d.weekday() + 1)\n",
    "\n",
    "# avg returns per week & reorder\n",
    "def avgWeeklyAndReorder(in_dates = np.empty(0), in_returns = np.empty(0)):\n",
    "    '''Definition: Take an array of daily stock returns and returns an array of average weekly stock returns in reverse order, labeled from Sundays.\n",
    "    Input: a numpy array of daily real number n-day stock returns, with oldest values last; a corresponding numpy array of string dates.\n",
    "    Output a numpy array of weekly average real number n-day stock returns, with oldest values first (to match order of Google Trends data)\n",
    "     a numpy array of corresponding string dates (referenced by the preceding Sunday)\n",
    "    Note: assumes the oldest date in the daily returns input array is a Monday.'''\n",
    "    \n",
    "    #reverse the input arrays to be oldest first, convert string dates to datetime objects\n",
    "    dates = np.array([DT.datetime.strptime(d, \"%Y-%m-%d\") for d in in_dates[::-1]])\n",
    "    returns = in_returns[::-1]\n",
    "    \n",
    "    #identify the Sundays before the first and last dates in our input time series (of weekdays), and # of weeks between\n",
    "    oldestSun = precedingSunday(dates[0])\n",
    "    newestSun = precedingSunday(dates[len(dates)-1])\n",
    "    weeksBetween = int((newestSun - oldestSun).days / 7)\n",
    "    \n",
    "    #create an array of datetimes for all Sundays beginning a trading week in our dataset (and empty array for its avg returns)\n",
    "    weeks = np.array([oldestSun + DT.timedelta(days = 7 * w) for w in range(weeksBetween + 1)])\n",
    "    wreturns = np.zeros(len(weeks))\n",
    "    \n",
    "    #average the n-day returns across each day in the week, for all weeks (note weeks with holidays have fewer trading days)\n",
    "    w, wsum, count = 0,0,0\n",
    "    for i, d in enumerate(dates):\n",
    "        #print('in for:', ' i=',i, ' d=',d, ' w=',w)\n",
    "        if d < weeks[w] + DT.timedelta(days=7):         #if day d is in week w (i.e., is not yet in the following week)\n",
    "            count += 1                                  #increase the count of trading days in the week\n",
    "            wsum += returns[i]                          #increase the sum of n-day returns in the week\n",
    "        else:\n",
    "            wreturns[w] = wsum / count                  #calculate avg n-day return for preceding week\n",
    "            \n",
    "            \n",
    "            count, wsum = 0,0                           #reset local vars for next week\n",
    "            w += 1                                      #set weekly counter for next week    \n",
    "            \n",
    "            count += 1                                  #increase the count of trading days (for d, the first day in the next week)\n",
    "            wsum += returns[i]                          #increase the sum of n-day returns (for d, the first day in the next week)\n",
    "            \n",
    "    if wreturns[w] == 0: \n",
    "        wreturns[w] = wsum / count      #calculate average for the final week, if not accounted for above\n",
    "    \n",
    "    return weeks, wreturns"
   ]
  },
  {
   "cell_type": "code",
   "execution_count": 12,
   "metadata": {
    "collapsed": true
   },
   "outputs": [],
   "source": [
    "# take a time series of stock returns and return a binary time series identifying some percent of worst returns in that period\n",
    "def worstReturns(stock_returns = np.empty(0), pWorst = 5):\n",
    "    worst_ones = np.zeros(len(stock_returns), dtype=int)\n",
    "    p = np.percentile(stock_returns, pWorst)  #identify all values less than this.\n",
    "    for i in range(len(stock_returns)):\n",
    "        if stock_returns[i] <= p: worst_ones[i] = 1\n",
    "    \n",
    "    return worst_ones"
   ]
  },
  {
   "cell_type": "markdown",
   "metadata": {},
   "source": [
    "## Obtaining the data:\n",
    "\n",
    "Below, we obtain the necessary data and mold it to fit our needs."
   ]
  },
  {
   "cell_type": "code",
   "execution_count": 29,
   "metadata": {
    "collapsed": false
   },
   "outputs": [],
   "source": [
    "##### CODE TESTING WITH COCA-COLA #####\n",
    "\n",
    "# search terms & categories being used\n",
    "KO_search_terms = ['coca-cola', '\"coca cola\"', 'KO', 'coke']\n",
    "cat_list = [7,12,16]\n",
    "cat_names = ['Financial', 'Business & Industrial', 'News']\n",
    "\n",
    "# request using API & match it to financial data\n",
    "KO_list = [listit(t) for t in KO_search_terms]\n",
    "all_df = pd.concat([get_term_df2(x, i) for x in KO_list for i in cat_list], axis = 1)\n",
    "result = all_df.mean(axis=1)\n",
    "result = result.loc[\"2014-02-09\":]"
   ]
  },
  {
   "cell_type": "code",
   "execution_count": 15,
   "metadata": {
    "collapsed": false
   },
   "outputs": [],
   "source": [
    "stocks = ['KO'] # can add more stocks if wanted\n",
    "n_days = 5\n",
    "month = '1'\n",
    "day = '1'\n",
    "year = '2014'\n",
    "\n",
    "# get closing dates, stock prices, and stock returns\n",
    "for stock in stocks:  \n",
    "    closing_dates, stock_prices = getYahooFinanceStockData(stock, month, day, year)\n",
    "    stock_returns = calcPercentStockReturns(stock_prices, n_days)"
   ]
  },
  {
   "cell_type": "code",
   "execution_count": 17,
   "metadata": {
    "collapsed": false
   },
   "outputs": [
    {
     "name": "stdout",
     "output_type": "stream",
     "text": [
      "0 \t2014-02-09 00:00:00 \t2.67667848078\n",
      "1 \t2014-02-16 00:00:00 \t-3.44571656916\n",
      "2 \t2014-02-23 00:00:00 \t0.802121125882\n",
      "3 \t2014-03-02 00:00:00 \t1.26349162692\n",
      "4 \t2014-03-09 00:00:00 \t0.611630378195\n",
      "5 \t2014-03-16 00:00:00 \t0.133650694022\n",
      "6 \t2014-03-23 00:00:00 \t0.886788298101\n",
      "7 \t2014-03-30 00:00:00 \t-0.879612766889\n",
      "8 \t2014-04-06 00:00:00 \t1.22415886681\n",
      "9 \t2014-04-13 00:00:00 \t3.09612778722\n",
      "10 \t2014-04-20 00:00:00 \t2.59045871983\n",
      "11 \t2014-04-27 00:00:00 \t0.108157453164\n",
      "12 \t2014-05-04 00:00:00 \t-0.175805142908\n",
      "13 \t2014-05-11 00:00:00 \t0.232581624674\n",
      "14 \t2014-05-18 00:00:00 \t-0.443531698346\n",
      "15 \t2014-05-25 00:00:00 \t0.111691459521\n",
      "16 \t2014-06-01 00:00:00 \t0.447703290604\n",
      "17 \t2014-06-08 00:00:00 \t-0.08382780282\n",
      "18 \t2014-06-15 00:00:00 \t1.9315489735\n",
      "19 \t2014-06-22 00:00:00 \t1.52807686744\n",
      "20 \t2014-06-29 00:00:00 \t0.955852633255\n",
      "21 \t2014-07-06 00:00:00 \t-0.520121703055\n",
      "22 \t2014-07-13 00:00:00 \t0.376877108168\n",
      "23 \t2014-07-20 00:00:00 \t-2.21870998696\n",
      "24 \t2014-07-27 00:00:00 \t-3.4566363083\n",
      "25 \t2014-08-03 00:00:00 \t-0.945801643597\n",
      "26 \t2014-08-10 00:00:00 \t1.49837021858\n",
      "27 \t2014-08-17 00:00:00 \t3.08168612408\n",
      "28 \t2014-08-24 00:00:00 \t0.761611652146\n",
      "29 \t2014-08-31 00:00:00 \t0.535398688183\n",
      "30 \t2014-09-07 00:00:00 \t0.506482792536\n",
      "31 \t2014-09-14 00:00:00 \t0.0988094457685\n",
      "32 \t2014-09-21 00:00:00 \t0.850853978805\n",
      "33 \t2014-09-28 00:00:00 \t1.40462329194\n",
      "34 \t2014-10-05 00:00:00 \t3.3277464287\n",
      "35 \t2014-10-12 00:00:00 \t-1.81680663544\n",
      "36 \t2014-10-19 00:00:00 \t-4.57977719821\n",
      "37 \t2014-10-26 00:00:00 \t-0.381803565371\n",
      "38 \t2014-11-02 00:00:00 \t2.43576947873\n",
      "39 \t2014-11-09 00:00:00 \t1.22673378588\n",
      "40 \t2014-11-16 00:00:00 \t2.94790051449\n",
      "41 \t2014-11-23 00:00:00 \t2.01864114612\n",
      "42 \t2014-11-30 00:00:00 \t-0.66208320032\n",
      "43 \t2014-12-07 00:00:00 \t-4.86966428908\n",
      "44 \t2014-12-14 00:00:00 \t-1.07788250844\n",
      "45 \t2014-12-21 00:00:00 \t3.86630565123\n",
      "46 \t2014-12-28 00:00:00 \t-0.117774138226\n",
      "47 \t2015-01-04 00:00:00 \t0.57265781885\n",
      "48 \t2015-01-11 00:00:00 \t-0.634481411179\n",
      "49 \t2015-01-18 00:00:00 \t1.99822226421\n",
      "50 \t2015-01-25 00:00:00 \t-2.55569918159\n",
      "51 \t2015-02-01 00:00:00 \t-1.14013578899\n",
      "52 \t2015-02-08 00:00:00 \t0.970316301534\n",
      "53 \t2015-02-15 00:00:00 \t-0.31533598931\n",
      "54 \t2015-02-22 00:00:00 \t1.03977054063\n",
      "55 \t2015-03-01 00:00:00 \t0.398033916316\n",
      "56 \t2015-03-08 00:00:00 \t-4.34019085239\n",
      "57 \t2015-03-15 00:00:00 \t0.223861474424\n",
      "58 \t2015-03-22 00:00:00 \t-0.045352280684\n",
      "59 \t2015-03-29 00:00:00 \t0.328329119482\n",
      "60 \t2015-04-05 00:00:00 \t1.23869402529\n",
      "61 \t2015-04-12 00:00:00 \t-1.21483294462\n",
      "62 \t2015-04-19 00:00:00 \t1.02935764829\n",
      "63 \t2015-04-26 00:00:00 \t-0.498974358941\n",
      "64 \t2015-05-03 00:00:00 \t0.241091737218\n",
      "65 \t2015-05-10 00:00:00 \t0.809283755112\n",
      "66 \t2015-05-17 00:00:00 \t0.35709817669\n",
      "67 \t2015-05-24 00:00:00 \t-0.605326050073\n",
      "68 \t2015-05-31 00:00:00 \t-0.939933168991\n",
      "69 \t2015-06-07 00:00:00 \t-1.01458973578\n",
      "70 \t2015-06-14 00:00:00 \t0.613136432913\n",
      "71 \t2015-06-21 00:00:00 \t0.0515911038474\n",
      "72 \t2015-06-28 00:00:00 \t-2.13927624422\n",
      "73 \t2015-07-05 00:00:00 \t1.13112122098\n",
      "74 \t2015-07-12 00:00:00 \t2.93090879392\n",
      "75 \t2015-07-19 00:00:00 \t-0.449277769381\n",
      "76 \t2015-07-26 00:00:00 \t-0.688937744357\n",
      "77 \t2015-08-02 00:00:00 \t2.89494244328\n",
      "78 \t2015-08-09 00:00:00 \t-1.15797867731\n",
      "79 \t2015-08-16 00:00:00 \t-1.57938952156\n",
      "80 \t2015-08-23 00:00:00 \t-4.71660839958\n",
      "81 \t2015-08-30 00:00:00 \t0.450224653863\n",
      "82 \t2015-09-06 00:00:00 \t-1.31250971687\n",
      "83 \t2015-09-13 00:00:00 \t1.66332345866\n",
      "84 \t2015-09-20 00:00:00 \t0.73515588552\n",
      "85 \t2015-09-27 00:00:00 \t2.0445844515\n",
      "86 \t2015-10-04 00:00:00 \t4.0048862326\n",
      "87 \t2015-10-11 00:00:00 \t0.868210583584\n",
      "88 \t2015-10-18 00:00:00 \t1.54354728677\n",
      "89 \t2015-10-25 00:00:00 \t0.279305002254\n",
      "90 \t2015-11-01 00:00:00 \t-1.13047854137\n",
      "91 \t2015-11-08 00:00:00 \t-1.11390313976\n",
      "92 \t2015-11-15 00:00:00 \t1.5119278633\n",
      "93 \t2015-11-22 00:00:00 \t2.46343031887\n",
      "94 \t2015-11-29 00:00:00 \t0.0432829569174\n",
      "95 \t2015-12-06 00:00:00 \t-0.05324012803\n",
      "96 \t2015-12-13 00:00:00 \t0.684156841909\n",
      "97 \t2015-12-20 00:00:00 \t0.253842730901\n",
      "98 \t2015-12-27 00:00:00 \t0.881074434385\n",
      "99 \t2016-01-03 00:00:00 \t-3.16210985854\n",
      "100 \t2016-01-10 00:00:00 \t-0.690900672675\n",
      "101 \t2016-01-17 00:00:00 \t-0.402138083878\n",
      "102 \t2016-01-24 00:00:00 \t1.71669504464\n",
      "103 \t2016-01-31 00:00:00 \t0.626477284284\n",
      "104 \t2016-02-07 00:00:00 \t0.422209486064\n",
      "105 \t2016-02-14 00:00:00 \t1.95037465126\n",
      "106 \t2016-02-21 00:00:00 \t0.694787439067\n",
      "107 \t2016-02-28 00:00:00 \t-0.0733303623059\n",
      "108 \t2016-03-06 00:00:00 \t2.40351670042\n",
      "109 \t2016-03-13 00:00:00 \t2.15409156564\n",
      "110 \t2016-03-20 00:00:00 \t0.477181653666\n",
      "111 \t2016-03-27 00:00:00 \t1.87480240493\n",
      "112 \t2016-04-03 00:00:00 \t0.557461642975\n",
      "113 \t2016-04-10 00:00:00 \t-0.984447052463\n",
      "114 \t2016-04-17 00:00:00 \t-2.46540616266\n",
      "115 \t2016-04-24 00:00:00 \t-0.840983834923\n",
      "116 \t2016-05-01 00:00:00 \t0.819138014287\n",
      "117 \t2016-05-08 00:00:00 \t1.08992836574\n",
      "118 \t2016-05-15 00:00:00 \t-1.97669149214\n",
      "119 \t2016-05-22 00:00:00 \t-0.393494127058\n",
      "120 \t2016-05-29 00:00:00 \t0.93145690169\n",
      "121 \t2016-06-05 00:00:00 \t1.85365639146\n",
      "122 \t2016-06-12 00:00:00 \t-0.431648640351\n",
      "123 \t2016-06-19 00:00:00 \t-0.57427968469\n",
      "124 \t2016-06-26 00:00:00 \t-0.489143784228\n",
      "125 \t2016-07-03 00:00:00 \t1.95224501307\n",
      "126 \t2016-07-10 00:00:00 \t0.849461852155\n",
      "127 \t2016-07-17 00:00:00 \t-0.0696895673083\n",
      "128 \t2016-07-24 00:00:00 \t-3.03444658316\n",
      "129 \t2016-07-31 00:00:00 \t-1.55435235306\n",
      "130 \t2016-08-07 00:00:00 \t0.317391670593\n",
      "131 \t2016-08-14 00:00:00 \t0.850365431611\n",
      "132 \t2016-08-21 00:00:00 \t-0.780475938899\n",
      "133 \t2016-08-28 00:00:00 \t-0.550813124736\n",
      "134 \t2016-09-04 00:00:00 \t-0.132895878226\n",
      "135 \t2016-09-11 00:00:00 \t-1.61285586015\n",
      "136 \t2016-09-18 00:00:00 \t0.450438251464\n",
      "137 \t2016-09-25 00:00:00 \t-0.713856011699\n",
      "138 \t2016-10-02 00:00:00 \t-0.954137182022\n",
      "139 \t2016-10-09 00:00:00 \t-0.305291834855\n",
      "140 \t2016-10-16 00:00:00 \t0.576174851268\n",
      "141 \t2016-10-23 00:00:00 \t1.0567536134\n",
      "142 \t2016-10-30 00:00:00 \t-0.754916165211\n",
      "143 \t2016-11-06 00:00:00 \t-0.341486871589\n",
      "144 \t2016-11-13 00:00:00 \t-1.72771452068\n",
      "145 \t2016-11-20 00:00:00 \t0.237589304318\n",
      "146 \t2016-11-27 00:00:00 \t-0.546877421785\n",
      "147 \t2016-12-04 00:00:00 \t1.02318786268\n",
      "148 \t2016-12-11 00:00:00 \t1.33249727242\n",
      "149 \t2016-12-18 00:00:00 \t-0.0500475856116\n",
      "150 \t2016-12-25 00:00:00 \t-0.234132308423\n",
      "151 \t2017-01-01 00:00:00 \t0.445806692224\n",
      "152 \t2017-01-08 00:00:00 \t-1.51459399587\n",
      "153 \t2017-01-15 00:00:00 \t0.372482843584\n",
      "154 \t2017-01-22 00:00:00 \t1.38969236772\n",
      "155 \t2017-01-29 00:00:00 \t-0.74271236531\n",
      "156 \t2017-02-05 00:00:00 \t0.0794954719718\n",
      "157 \t2017-02-12 00:00:00 \t-1.56221006991\n",
      "158 \t2017-02-19 00:00:00 \t2.28313614007\n",
      "159 \t2017-02-26 00:00:00 \t1.4478166004\n",
      "160 \t2017-03-05 00:00:00 \t-0.118222292211\n",
      "161 \t2017-03-12 00:00:00 \t0.991027126631\n"
     ]
    }
   ],
   "source": [
    "# obtain sundays and average weekly returns that have been reordered \n",
    "sundays_of_weeks, weekly_returns = avgWeeklyAndReorder(closing_dates[0:len(closing_dates)-n_days], stock_returns)\n",
    "\n",
    "for i in range(len(sundays_of_weeks)): print i, '\\t', sundays_of_weeks[i], '\\t', weekly_returns[i]"
   ]
  },
  {
   "cell_type": "code",
   "execution_count": 47,
   "metadata": {
    "collapsed": false
   },
   "outputs": [
    {
     "name": "stdout",
     "output_type": "stream",
     "text": [
      "('number of zero or one flags for worst 5% of avg weekly 5-day returns:', 162)\n",
      "('number of returns in the bottom 5% (where mask == 1):', 9)\n",
      "('number of dates corresponding to the bottom 5% (where mask == 1):', 9, '\\n')\n"
     ]
    },
    {
     "data": {
      "image/png": "[encoded data removed]",
      "text/plain": [
       "<matplotlib.figure.Figure at 0xaf38438>"
      ]
     },
     "metadata": {},
     "output_type": "display_data"
    },
    {
     "name": "stdout",
     "output_type": "stream",
     "text": [
      "Here are the 5% worst average weekly 5-day returns from the dataset:\n",
      "(datetime.datetime(2014, 2, 16, 0, 0), '\\t', -3.4457165691591536)\n",
      "(datetime.datetime(2014, 7, 27, 0, 0), '\\t', -3.4566363083045744)\n",
      "(datetime.datetime(2014, 10, 19, 0, 0), '\\t', -4.579777198208606)\n",
      "(datetime.datetime(2014, 12, 7, 0, 0), '\\t', -4.8696642890806938)\n",
      "(datetime.datetime(2015, 1, 25, 0, 0), '\\t', -2.5556991815928982)\n",
      "(datetime.datetime(2015, 3, 8, 0, 0), '\\t', -4.3401908523870176)\n",
      "(datetime.datetime(2015, 8, 23, 0, 0), '\\t', -4.7166083995831709)\n",
      "(datetime.datetime(2016, 1, 3, 0, 0), '\\t', -3.1621098585356981)\n",
      "(datetime.datetime(2016, 7, 24, 0, 0), '\\t', -3.0344465831612375)\n"
     ]
    }
   ],
   "source": [
    "# get binomial list where 1 means there was a significant loss\n",
    "bottom5Mask = worstReturns(weekly_returns, 5)\n",
    "bottom5Returns = np.array([r for r, mask in zip(weekly_returns, bottom5Mask) if mask == 1])\n",
    "bottom5Dates = np.array([d for d, mask in zip(sundays_of_weeks, bottom5Mask) if mask == 1])\n",
    "print('number of zero or one flags for worst 5% of avg weekly 5-day returns:', len(bottom5Mask))\n",
    "print('number of returns in the bottom 5% (where mask == 1):', len(bottom5Returns))\n",
    "print('number of dates corresponding to the bottom 5% (where mask == 1):', len(bottom5Dates), '\\n')\n",
    "\n",
    "# plot it...\n",
    "pltdata = []\n",
    "for i in range(len(bottom5Returns)):\n",
    "    pltdata.append((bottom5Dates[i], bottom5Returns[i]))\n",
    "x = [date2num(date) for (date, value) in pltdata]\n",
    "y = [value for (date, value) in pltdata]\n",
    "fig, ax = plt.subplots()\n",
    "ax.plot(x,y, 'ro')\n",
    "ax.xaxis.set_major_formatter(DateFormatter('%d %b %Y')) #('%b %d %Y'))\n",
    "ax.xaxis_date()  #tell matplotlib to interpret the x-axis values as dates\n",
    "plt.gcf().autofmt_xdate(rotation=45) #rotate the x labels\n",
    "plt.title('Bottom 5% of average weekly 5-day log returns')\n",
    "plt.ylabel('weekly average of 5-day returns')\n",
    "plt.xlabel('dates prior to the present')\n",
    "plt.show()\n",
    "\n",
    "# display it...\n",
    "print('Here are the 5% worst average weekly 5-day returns from the dataset:')\n",
    "for i in range(len(bottom5Returns)): print(bottom5Dates[i], '\\t', bottom5Returns[i])"
   ]
  },
  {
   "cell_type": "markdown",
   "metadata": {},
   "source": [
    "## Calculations:\n",
    "\n",
    "Now we have reached the exciting part where we actually test our code with the Coca-Cola company to calculate the correlation between stock returns and search trends data."
   ]
  },
  {
   "cell_type": "code",
   "execution_count": 46,
   "metadata": {
    "collapsed": false
   },
   "outputs": [],
   "source": [
    "# turn binary into time series\n",
    "l = pd.Series((v for v in bottom5Mask))\n",
    "l = l[:-1]\n",
    "l.index = result.index"
   ]
  },
  {
   "cell_type": "code",
   "execution_count": 44,
   "metadata": {
    "collapsed": false
   },
   "outputs": [
    {
     "data": {
      "text/plain": [
       "[0.14282667837605206,\n",
       " 0.14416963983669659,\n",
       " 0.10636765945778787,\n",
       " 0.11085664238847201,\n",
       " 0.11538006254286995,\n",
       " 0.12678148139221568,\n",
       " 0.13094779864067041,\n",
       " 0.13139804538214236,\n",
       " 0.13182985713970605,\n",
       " 0.13305481844354627]"
      ]
     },
     "execution_count": 44,
     "metadata": {},
     "output_type": "execute_result"
    }
   ],
   "source": [
    "# calculate cross-correlation for lags 0-9\n",
    "corrs = [calc_corr(x) for x in range(0,10)]\n",
    "corrs"
   ]
  },
  {
   "cell_type": "code",
   "execution_count": 48,
   "metadata": {
    "collapsed": false
   },
   "outputs": [
    {
     "data": {
      "image/png": "[encoded data removed]",
      "text/plain": [
       "<matplotlib.figure.Figure at 0xb8fb5c0>"
      ]
     },
     "metadata": {},
     "output_type": "display_data"
    }
   ],
   "source": [
    "# plot the correlations\n",
    "plt.plot(range(10), corrs)\n",
    "plt. title('Cross-Correlation Results')\n",
    "plt.xlabel('Num of Week Lags')\n",
    "plt.ylabel('Correlation')\n",
    "plt.show()"
   ]
  }
 ],
 "metadata": {
  "anaconda-cloud": {},
  "kernelspec": {
   "display_name": "Python [default]",
   "language": "python",
   "name": "python2"
  },
  "language_info": {
   "codemirror_mode": {
    "name": "ipython",
    "version": 2
   },
   "file_extension": ".py",
   "mimetype": "text/x-python",
   "name": "python",
   "nbconvert_exporter": "python",
   "pygments_lexer": "ipython2",
   "version": "2.7.12"
  }
 },
 "nbformat": 4,
 "nbformat_minor": 1
}
