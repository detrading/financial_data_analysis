{
 "cells": [
  {
   "cell_type": "markdown",
   "metadata": {},
   "source": [
    "# Google Trends Data\n",
    "\n",
    "This program obtains Google Trends Data using an unofficial API called [pytrends](https://github.com/GeneralMills/pytrends). Thank you to the creators!"
   ]
  },
  {
   "cell_type": "code",
   "execution_count": 1,
   "metadata": {
    "collapsed": false
   },
   "outputs": [],
   "source": [
    "# import all necessary packages\n",
    "import pandas as pd\n",
    "import numpy as np\n",
    "import lxml\n",
    "import requests\n",
    "import requests_cache\n",
    "import pytrends\n",
    "from pytrends.request import TrendReq\n",
    "from bs4 import BeautifulSoup\n",
    "from collections import Counter\n",
    "from matplotlib import pyplot as plt\n",
    "plt.style.use('ggplot')\n",
    "requests_cache.install_cache(\"cache\")\n",
    "\n",
    "# required info\n",
    "google_username = \"***@gmail.com\"\n",
    "google_password = \"***!\""
   ]
  },
  {
   "cell_type": "code",
   "execution_count": 2,
   "metadata": {
    "collapsed": false
   },
   "outputs": [],
   "source": [
    "# Login to Google. Only need to run this once, the rest of requests will use the same session.\n",
    "pytrend = TrendReq(google_username, google_password, custom_useragent=None)"
   ]
  },
  {
   "cell_type": "markdown",
   "metadata": {},
   "source": [
    "I first tried to look at all the search terms once in one payload, but that gave me different results than if I searched the terms separately. The reason is because when I used all the terms at once, the trends data returned was actually comparing each of the search terms and their popularity to each other. This is not what we wanted, so I decided to do them all separately.\n",
    "\n",
    "**A side note:** According to the [Google Trends Search Tips](https://support.google.com/trends/answer/4359582?hl=en) page, searching a term like *tennis shoes* results in \"searches containing both tennis and shoes in any order. Results can also include searches like red tennis shoes, funny shoes for tennis, or tennis without shoes.\" Therefore, I chose to use terms like *walmart stock price* so that each word would be considered as well as many combinations of these words.\n",
    "\n",
    "We decided to start by taking a look at five companies from different sectors to analyze their search terms: Walmart, Goldman Sachs, Exxon Mobile, Facebook, and Nike."
   ]
  },
  {
   "cell_type": "code",
   "execution_count": 27,
   "metadata": {
    "collapsed": false
   },
   "outputs": [
    {
     "data": {
      "text/html": [
       "<div>\n",
       "<table border=\"1\" class=\"dataframe\">\n",
       "  <thead>\n",
       "    <tr style=\"text-align: right;\">\n",
       "      <th></th>\n",
       "      <th>walmart stock price</th>\n",
       "      <th>goldman sachs stock price</th>\n",
       "      <th>exxon mobile stock price</th>\n",
       "      <th>facebook stock price</th>\n",
       "      <th>nike stock price</th>\n",
       "    </tr>\n",
       "    <tr>\n",
       "      <th>date</th>\n",
       "      <th></th>\n",
       "      <th></th>\n",
       "      <th></th>\n",
       "      <th></th>\n",
       "      <th></th>\n",
       "    </tr>\n",
       "  </thead>\n",
       "  <tbody>\n",
       "    <tr>\n",
       "      <th>2016-12-01</th>\n",
       "      <td>32</td>\n",
       "      <td>3</td>\n",
       "      <td>0</td>\n",
       "      <td>42</td>\n",
       "      <td>15</td>\n",
       "    </tr>\n",
       "    <tr>\n",
       "      <th>2016-12-02</th>\n",
       "      <td>33</td>\n",
       "      <td>5</td>\n",
       "      <td>0</td>\n",
       "      <td>50</td>\n",
       "      <td>22</td>\n",
       "    </tr>\n",
       "    <tr>\n",
       "      <th>2016-12-03</th>\n",
       "      <td>7</td>\n",
       "      <td>7</td>\n",
       "      <td>0</td>\n",
       "      <td>19</td>\n",
       "      <td>3</td>\n",
       "    </tr>\n",
       "    <tr>\n",
       "      <th>2016-12-04</th>\n",
       "      <td>14</td>\n",
       "      <td>5</td>\n",
       "      <td>0</td>\n",
       "      <td>22</td>\n",
       "      <td>3</td>\n",
       "    </tr>\n",
       "    <tr>\n",
       "      <th>2016-12-05</th>\n",
       "      <td>27</td>\n",
       "      <td>5</td>\n",
       "      <td>0</td>\n",
       "      <td>43</td>\n",
       "      <td>20</td>\n",
       "    </tr>\n",
       "  </tbody>\n",
       "</table>\n",
       "</div>"
      ],
      "text/plain": [
       "            walmart stock price  goldman sachs stock price  \\\n",
       "date                                                         \n",
       "2016-12-01                   32                          3   \n",
       "2016-12-02                   33                          5   \n",
       "2016-12-03                    7                          7   \n",
       "2016-12-04                   14                          5   \n",
       "2016-12-05                   27                          5   \n",
       "\n",
       "            exxon mobile stock price  facebook stock price  nike stock price  \n",
       "date                                                                          \n",
       "2016-12-01                         0                    42                15  \n",
       "2016-12-02                         0                    50                22  \n",
       "2016-12-03                         0                    19                 3  \n",
       "2016-12-04                         0                    22                 3  \n",
       "2016-12-05                         0                    43                20  "
      ]
     },
     "execution_count": 27,
     "metadata": {},
     "output_type": "execute_result"
    }
   ],
   "source": [
    "# list of test search terms\n",
    "search_list = ['walmart stock price', 'goldman sachs stock price', 'exxon mobile stock price', 'facebook stock price', 'nike stock price']\n",
    "\n",
    "# get the comparison search data\n",
    "pytrend.build_payload(kw_list = search_list, geo = 'US', timeframe = 'today 3-m')\n",
    "compare_df = pytrend.interest_over_time()\n",
    "compare_df.head()"
   ]
  },
  {
   "cell_type": "markdown",
   "metadata": {},
   "source": [
    "Because of the way the API is structured, I had to make five separate pyloads and get the individual data frames that way before combining them into a single data frame. Notice that the numbers are different from the data frame above!\n",
    "\n",
    "Before that, we quickly needed to change the search term list into a list of lists with each term in its own list. This is because the API requires the keywords to be in a list format."
   ]
  },
  {
   "cell_type": "code",
   "execution_count": 6,
   "metadata": {
    "collapsed": true
   },
   "outputs": [],
   "source": [
    "# function to quickly change the search term list into a list of lists\n",
    "def listit(t):\n",
    "    term_listed = []\n",
    "    term_listed.append(t)\n",
    "    return term_listed"
   ]
  },
  {
   "cell_type": "code",
   "execution_count": 47,
   "metadata": {
    "collapsed": false
   },
   "outputs": [
    {
     "data": {
      "text/plain": [
       "[['walmart stock price'],\n",
       " ['goldman sachs stock price'],\n",
       " ['exxon mobile stock price'],\n",
       " ['facebook stock price'],\n",
       " ['nike stock price']]"
      ]
     },
     "execution_count": 47,
     "metadata": {},
     "output_type": "execute_result"
    }
   ],
   "source": [
    "search_list2 = [listit(t) for t in search_list]\n",
    "search_list2"
   ]
  },
  {
   "cell_type": "code",
   "execution_count": 50,
   "metadata": {
    "collapsed": false
   },
   "outputs": [
    {
     "data": {
      "text/html": [
       "<div>\n",
       "<table border=\"1\" class=\"dataframe\">\n",
       "  <thead>\n",
       "    <tr style=\"text-align: right;\">\n",
       "      <th></th>\n",
       "      <th>walmart stock price</th>\n",
       "      <th>goldman sachs stock price</th>\n",
       "      <th>exxon mobile stock price</th>\n",
       "      <th>facebook stock price</th>\n",
       "      <th>nike stock price</th>\n",
       "    </tr>\n",
       "    <tr>\n",
       "      <th>date</th>\n",
       "      <th></th>\n",
       "      <th></th>\n",
       "      <th></th>\n",
       "      <th></th>\n",
       "      <th></th>\n",
       "    </tr>\n",
       "  </thead>\n",
       "  <tbody>\n",
       "    <tr>\n",
       "      <th>2016-12-01</th>\n",
       "      <td>79</td>\n",
       "      <td>25</td>\n",
       "      <td>0</td>\n",
       "      <td>42</td>\n",
       "      <td>51</td>\n",
       "    </tr>\n",
       "    <tr>\n",
       "      <th>2016-12-02</th>\n",
       "      <td>80</td>\n",
       "      <td>50</td>\n",
       "      <td>0</td>\n",
       "      <td>50</td>\n",
       "      <td>74</td>\n",
       "    </tr>\n",
       "    <tr>\n",
       "      <th>2016-12-03</th>\n",
       "      <td>17</td>\n",
       "      <td>66</td>\n",
       "      <td>0</td>\n",
       "      <td>19</td>\n",
       "      <td>11</td>\n",
       "    </tr>\n",
       "    <tr>\n",
       "      <th>2016-12-04</th>\n",
       "      <td>33</td>\n",
       "      <td>48</td>\n",
       "      <td>0</td>\n",
       "      <td>22</td>\n",
       "      <td>11</td>\n",
       "    </tr>\n",
       "    <tr>\n",
       "      <th>2016-12-05</th>\n",
       "      <td>65</td>\n",
       "      <td>48</td>\n",
       "      <td>0</td>\n",
       "      <td>43</td>\n",
       "      <td>67</td>\n",
       "    </tr>\n",
       "  </tbody>\n",
       "</table>\n",
       "</div>"
      ],
      "text/plain": [
       "            walmart stock price  goldman sachs stock price  \\\n",
       "date                                                         \n",
       "2016-12-01                   79                         25   \n",
       "2016-12-02                   80                         50   \n",
       "2016-12-03                   17                         66   \n",
       "2016-12-04                   33                         48   \n",
       "2016-12-05                   65                         48   \n",
       "\n",
       "            exxon mobile stock price  facebook stock price  nike stock price  \n",
       "date                                                                          \n",
       "2016-12-01                         0                    42                51  \n",
       "2016-12-02                         0                    50                74  \n",
       "2016-12-03                         0                    19                11  \n",
       "2016-12-04                         0                    22                11  \n",
       "2016-12-05                         0                    43                67  "
      ]
     },
     "execution_count": 50,
     "metadata": {},
     "output_type": "execute_result"
    }
   ],
   "source": [
    "# combine all data frames by column since the indexes are the same anyways\n",
    "all_df = pd.concat([get_term_df(search_term) for search_term in search_list2], axis = 1)\n",
    "all_df.head()"
   ]
  },
  {
   "cell_type": "markdown",
   "metadata": {},
   "source": [
    "We also chose to focus on data from the US and from the last three years. This is important because we wanted to obtain the full 3 years of data, but then only really look at the last six months. If we requested only the last 3 months of data, then we would be getting numbers that were normalized over only the last three months, so a small deviation might seem large at the small scale. For this reason, we wanted to obtain results from the last three years so that big events are actually big events."
   ]
  },
  {
   "cell_type": "code",
   "execution_count": 9,
   "metadata": {
    "collapsed": true
   },
   "outputs": [],
   "source": [
    "# function to get each company's data frame separately\n",
    "def get_term_df(term, cat_num):\n",
    "    pytrend.build_payload(kw_list = term, cat = cat_num, geo = 'US', timeframe = '2014-01-05 2017-03-11')\n",
    "    new_df = pytrend.interest_over_time()\n",
    "    return new_df"
   ]
  },
  {
   "cell_type": "markdown",
   "metadata": {},
   "source": [
    "The API returns per-week data. After figuring out how the API worked and being able to get the right kind of data, we decided to focus in on one company and get all the information for it. This way, we can replicate the process with other companies. Another element we decided to encorporate was the categories feature on Google Trends.\n",
    "\n",
    "Example: If you search for jaguar, you can add a category to indicate if you mean the animal or the car manufacturer.\n",
    "\n",
    "We decided to use the three most relevant categories to us, Financial, Business & Industrial, and News. Even if we are looking at a technology company like Apple for example, we still would want to use the same categories to obtain more precise results. \n",
    "\n",
    "Our example company is Cocoa-Cola. We considered all possible variations of the company's name as well as their ticker symbol. Since we are using the Financial category as well, our resutls will include search terms like \"losses\" & \"price\"."
   ]
  },
  {
   "cell_type": "code",
   "execution_count": 7,
   "metadata": {
    "collapsed": false
   },
   "outputs": [
    {
     "data": {
      "text/plain": [
       "[['coca-cola'], ['\"coca cola\"'], ['KO'], ['coke']]"
      ]
     },
     "execution_count": 7,
     "metadata": {},
     "output_type": "execute_result"
    }
   ],
   "source": [
    "KO_search_terms = ['coca-cola', '\"coca cola\"', 'KO', 'coke']\n",
    "cat_list = [7,12,16]\n",
    "cat_names = ['Financial', 'Business & Industrial', 'News']\n",
    "\n",
    "KO_list = [listit(t) for t in KO_search_terms]\n",
    "KO_list"
   ]
  },
  {
   "cell_type": "code",
   "execution_count": 10,
   "metadata": {
    "collapsed": true
   },
   "outputs": [],
   "source": [
    "all_df = pd.concat([get_term_df(x, i) for x in KO_list for i in cat_list], axis = 1)"
   ]
  },
  {
   "cell_type": "code",
   "execution_count": 11,
   "metadata": {
    "collapsed": false
   },
   "outputs": [
    {
     "data": {
      "text/html": [
       "<div>\n",
       "<table border=\"1\" class=\"dataframe\">\n",
       "  <thead>\n",
       "    <tr style=\"text-align: right;\">\n",
       "      <th></th>\n",
       "      <th>coca-cola</th>\n",
       "      <th>coca-cola</th>\n",
       "      <th>coca-cola</th>\n",
       "      <th>\"coca cola\"</th>\n",
       "      <th>\"coca cola\"</th>\n",
       "      <th>\"coca cola\"</th>\n",
       "      <th>KO</th>\n",
       "      <th>KO</th>\n",
       "      <th>KO</th>\n",
       "      <th>coke</th>\n",
       "      <th>coke</th>\n",
       "      <th>coke</th>\n",
       "    </tr>\n",
       "    <tr>\n",
       "      <th>date</th>\n",
       "      <th></th>\n",
       "      <th></th>\n",
       "      <th></th>\n",
       "      <th></th>\n",
       "      <th></th>\n",
       "      <th></th>\n",
       "      <th></th>\n",
       "      <th></th>\n",
       "      <th></th>\n",
       "      <th></th>\n",
       "      <th></th>\n",
       "      <th></th>\n",
       "    </tr>\n",
       "  </thead>\n",
       "  <tbody>\n",
       "    <tr>\n",
       "      <th>2016-09-18</th>\n",
       "      <td>100</td>\n",
       "      <td>34</td>\n",
       "      <td>28</td>\n",
       "      <td>71</td>\n",
       "      <td>11</td>\n",
       "      <td>40</td>\n",
       "      <td>30</td>\n",
       "      <td>64</td>\n",
       "      <td>13</td>\n",
       "      <td>32</td>\n",
       "      <td>27</td>\n",
       "      <td>16</td>\n",
       "    </tr>\n",
       "    <tr>\n",
       "      <th>2016-09-25</th>\n",
       "      <td>43</td>\n",
       "      <td>29</td>\n",
       "      <td>20</td>\n",
       "      <td>84</td>\n",
       "      <td>11</td>\n",
       "      <td>32</td>\n",
       "      <td>44</td>\n",
       "      <td>65</td>\n",
       "      <td>16</td>\n",
       "      <td>34</td>\n",
       "      <td>31</td>\n",
       "      <td>87</td>\n",
       "    </tr>\n",
       "    <tr>\n",
       "      <th>2016-10-02</th>\n",
       "      <td>21</td>\n",
       "      <td>36</td>\n",
       "      <td>28</td>\n",
       "      <td>75</td>\n",
       "      <td>11</td>\n",
       "      <td>39</td>\n",
       "      <td>43</td>\n",
       "      <td>60</td>\n",
       "      <td>16</td>\n",
       "      <td>31</td>\n",
       "      <td>27</td>\n",
       "      <td>19</td>\n",
       "    </tr>\n",
       "    <tr>\n",
       "      <th>2016-10-09</th>\n",
       "      <td>50</td>\n",
       "      <td>32</td>\n",
       "      <td>24</td>\n",
       "      <td>66</td>\n",
       "      <td>11</td>\n",
       "      <td>40</td>\n",
       "      <td>50</td>\n",
       "      <td>68</td>\n",
       "      <td>17</td>\n",
       "      <td>32</td>\n",
       "      <td>27</td>\n",
       "      <td>51</td>\n",
       "    </tr>\n",
       "    <tr>\n",
       "      <th>2016-10-16</th>\n",
       "      <td>78</td>\n",
       "      <td>40</td>\n",
       "      <td>32</td>\n",
       "      <td>67</td>\n",
       "      <td>11</td>\n",
       "      <td>38</td>\n",
       "      <td>53</td>\n",
       "      <td>71</td>\n",
       "      <td>17</td>\n",
       "      <td>40</td>\n",
       "      <td>27</td>\n",
       "      <td>20</td>\n",
       "    </tr>\n",
       "  </tbody>\n",
       "</table>\n",
       "</div>"
      ],
      "text/plain": [
       "            coca-cola  coca-cola  coca-cola  \"coca cola\"  \"coca cola\"  \\\n",
       "date                                                                    \n",
       "2016-09-18        100         34         28           71           11   \n",
       "2016-09-25         43         29         20           84           11   \n",
       "2016-10-02         21         36         28           75           11   \n",
       "2016-10-09         50         32         24           66           11   \n",
       "2016-10-16         78         40         32           67           11   \n",
       "\n",
       "            \"coca cola\"  KO  KO  KO  coke  coke  coke  \n",
       "date                                                   \n",
       "2016-09-18           40  30  64  13    32    27    16  \n",
       "2016-09-25           32  44  65  16    34    31    87  \n",
       "2016-10-02           39  43  60  16    31    27    19  \n",
       "2016-10-09           40  50  68  17    32    27    51  \n",
       "2016-10-16           38  53  71  17    40    27    20  "
      ]
     },
     "execution_count": 11,
     "metadata": {},
     "output_type": "execute_result"
    }
   ],
   "source": [
    "reduced_df = all_df.loc[\"2016-09-13\":\"2017-03-13\"]\n",
    "reduced_df.head()"
   ]
  },
  {
   "cell_type": "markdown",
   "metadata": {},
   "source": [
    "As you can see above, we obtained all the data and then sectioned off the last six months to use for our analysis. We then took the average by the search term."
   ]
  },
  {
   "cell_type": "code",
   "execution_count": 12,
   "metadata": {
    "collapsed": false
   },
   "outputs": [
    {
     "data": {
      "text/html": [
       "<div>\n",
       "<table border=\"1\" class=\"dataframe\">\n",
       "  <thead>\n",
       "    <tr style=\"text-align: right;\">\n",
       "      <th></th>\n",
       "      <th>coca-cola</th>\n",
       "      <th>\"coca cola\"</th>\n",
       "      <th>KO</th>\n",
       "      <th>coke</th>\n",
       "    </tr>\n",
       "    <tr>\n",
       "      <th>date</th>\n",
       "      <th></th>\n",
       "      <th></th>\n",
       "      <th></th>\n",
       "      <th></th>\n",
       "    </tr>\n",
       "  </thead>\n",
       "  <tbody>\n",
       "    <tr>\n",
       "      <th>2016-09-18</th>\n",
       "      <td>54.00</td>\n",
       "      <td>40.67</td>\n",
       "      <td>35.67</td>\n",
       "      <td>25.00</td>\n",
       "    </tr>\n",
       "    <tr>\n",
       "      <th>2016-09-25</th>\n",
       "      <td>30.67</td>\n",
       "      <td>42.33</td>\n",
       "      <td>41.67</td>\n",
       "      <td>50.67</td>\n",
       "    </tr>\n",
       "    <tr>\n",
       "      <th>2016-10-02</th>\n",
       "      <td>28.33</td>\n",
       "      <td>41.67</td>\n",
       "      <td>39.67</td>\n",
       "      <td>25.67</td>\n",
       "    </tr>\n",
       "    <tr>\n",
       "      <th>2016-10-09</th>\n",
       "      <td>35.33</td>\n",
       "      <td>39.00</td>\n",
       "      <td>45.00</td>\n",
       "      <td>36.67</td>\n",
       "    </tr>\n",
       "    <tr>\n",
       "      <th>2016-10-16</th>\n",
       "      <td>50.00</td>\n",
       "      <td>38.67</td>\n",
       "      <td>47.00</td>\n",
       "      <td>29.00</td>\n",
       "    </tr>\n",
       "  </tbody>\n",
       "</table>\n",
       "</div>"
      ],
      "text/plain": [
       "            coca-cola  \"coca cola\"     KO   coke\n",
       "date                                            \n",
       "2016-09-18      54.00        40.67  35.67  25.00\n",
       "2016-09-25      30.67        42.33  41.67  50.67\n",
       "2016-10-02      28.33        41.67  39.67  25.67\n",
       "2016-10-09      35.33        39.00  45.00  36.67\n",
       "2016-10-16      50.00        38.67  47.00  29.00"
      ]
     },
     "execution_count": 12,
     "metadata": {},
     "output_type": "execute_result"
    }
   ],
   "source": [
    "#by_term = pd.concat([get_term_df(x, i) for x in KO_list for i in cat_list], axis = 1)\n",
    "by_term_avg = reduced_df.groupby(np.arange(len(reduced_df.columns))//3, axis=1).mean()\n",
    "by_term_avg = np.round(by_term_avg, decimals=2)\n",
    "by_term_avg.columns = KO_search_terms\n",
    "by_term_avg.head()"
   ]
  },
  {
   "cell_type": "markdown",
   "metadata": {},
   "source": [
    "We then decided that it would actually be more useful to aggregate by category and see if a certain category behaved differently than the others."
   ]
  },
  {
   "cell_type": "code",
   "execution_count": 13,
   "metadata": {
    "collapsed": false
   },
   "outputs": [
    {
     "data": {
      "text/html": [
       "<div>\n",
       "<table border=\"1\" class=\"dataframe\">\n",
       "  <thead>\n",
       "    <tr style=\"text-align: right;\">\n",
       "      <th></th>\n",
       "      <th>Financial</th>\n",
       "      <th>Business &amp; Industrial</th>\n",
       "      <th>News</th>\n",
       "    </tr>\n",
       "    <tr>\n",
       "      <th>date</th>\n",
       "      <th></th>\n",
       "      <th></th>\n",
       "      <th></th>\n",
       "    </tr>\n",
       "  </thead>\n",
       "  <tbody>\n",
       "    <tr>\n",
       "      <th>2016-09-18</th>\n",
       "      <td>58.25</td>\n",
       "      <td>36.25</td>\n",
       "      <td>22.00</td>\n",
       "    </tr>\n",
       "    <tr>\n",
       "      <th>2016-09-25</th>\n",
       "      <td>44.00</td>\n",
       "      <td>38.00</td>\n",
       "      <td>42.00</td>\n",
       "    </tr>\n",
       "    <tr>\n",
       "      <th>2016-10-02</th>\n",
       "      <td>40.00</td>\n",
       "      <td>38.25</td>\n",
       "      <td>23.25</td>\n",
       "    </tr>\n",
       "    <tr>\n",
       "      <th>2016-10-09</th>\n",
       "      <td>43.00</td>\n",
       "      <td>42.25</td>\n",
       "      <td>31.75</td>\n",
       "    </tr>\n",
       "    <tr>\n",
       "      <th>2016-10-16</th>\n",
       "      <td>54.25</td>\n",
       "      <td>43.25</td>\n",
       "      <td>26.00</td>\n",
       "    </tr>\n",
       "  </tbody>\n",
       "</table>\n",
       "</div>"
      ],
      "text/plain": [
       "            Financial  Business & Industrial   News\n",
       "date                                               \n",
       "2016-09-18      58.25                  36.25  22.00\n",
       "2016-09-25      44.00                  38.00  42.00\n",
       "2016-10-02      40.00                  38.25  23.25\n",
       "2016-10-09      43.00                  42.25  31.75\n",
       "2016-10-16      54.25                  43.25  26.00"
      ]
     },
     "execution_count": 13,
     "metadata": {},
     "output_type": "execute_result"
    }
   ],
   "source": [
    "by_cat = pd.concat([get_term_df(x, i) for i in cat_list for x in KO_list], axis = 1)\n",
    "by_cat_avg = reduced_df.groupby(np.arange(len(reduced_df.columns))//4, axis=1).mean()\n",
    "by_cat_avg.columns = cat_names\n",
    "by_cat_avg.head()"
   ]
  },
  {
   "cell_type": "markdown",
   "metadata": {},
   "source": [
    "Just to get a visual sense of the different categories and their results, here is a plot of the data."
   ]
  },
  {
   "cell_type": "code",
   "execution_count": 14,
   "metadata": {
    "collapsed": false
   },
   "outputs": [
    {
     "data": {
      "image/png": "[encoded data removed]",
      "text/plain": [
       "<matplotlib.figure.Figure at 0xb391908>"
      ]
     },
     "metadata": {},
     "output_type": "display_data"
    }
   ],
   "source": [
    "by_cat_avg.plot()\n",
    "plt.title('By Category Results')\n",
    "plt.xlabel('Date')\n",
    "plt.ylabel('Interest Over Time')\n",
    "plt.show()"
   ]
  },
  {
   "cell_type": "markdown",
   "metadata": {},
   "source": [
    "Looking at the plot above, we can see that for the most part, the three categories move in the same direction. This is reassuring to us when we average the three categories into one column for further use."
   ]
  },
  {
   "cell_type": "code",
   "execution_count": 15,
   "metadata": {
    "collapsed": false
   },
   "outputs": [
    {
     "data": {
      "text/plain": [
       "[38.833333333333336,\n",
       " 41.333333333333336,\n",
       " 33.833333333333336,\n",
       " 39.0,\n",
       " 41.166666666666664,\n",
       " 38.666666666666664,\n",
       " 36.25,\n",
       " 40.416666666666664,\n",
       " 44.5,\n",
       " 34.5,\n",
       " 44.583333333333336,\n",
       " 43.166666666666664,\n",
       " 36.666666666666664,\n",
       " 35.666666666666664,\n",
       " 31.666666666666668,\n",
       " 36.416666666666664,\n",
       " 37.0,\n",
       " 35.0,\n",
       " 42.5,\n",
       " 46.166666666666664,\n",
       " 57.416666666666664,\n",
       " 46.833333333333336,\n",
       " 45.333333333333336,\n",
       " 48.75,\n",
       " 40.583333333333336]"
      ]
     },
     "execution_count": 15,
     "metadata": {},
     "output_type": "execute_result"
    }
   ],
   "source": [
    "result = by_cat_avg.mean(axis=1)\n",
    "result = result.tolist()\n",
    "result"
   ]
  }
 ],
 "metadata": {
  "anaconda-cloud": {},
  "kernelspec": {
   "display_name": "Python [default]",
   "language": "python",
   "name": "python2"
  },
  "language_info": {
   "codemirror_mode": {
    "name": "ipython",
    "version": 2
   },
   "file_extension": ".py",
   "mimetype": "text/x-python",
   "name": "python",
   "nbconvert_exporter": "python",
   "pygments_lexer": "ipython2",
   "version": "2.7.12"
  }
 },
 "nbformat": 4,
 "nbformat_minor": 1
}
